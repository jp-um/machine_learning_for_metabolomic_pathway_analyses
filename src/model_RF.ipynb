{
 "cells": [
  {
   "cell_type": "code",
   "execution_count": null,
   "id": "3b220db8",
   "metadata": {},
   "outputs": [],
   "source": [
    "import sys\n",
    "\n",
    "import rdkit # required for cheminformatics functionality (small molecules)\n",
    "from rdkit import Chem\n",
    "from rdkit.Chem import AllChem\n",
    "from rdkit.Chem import DataStructs\n",
    "\n",
    "import pandas as pd\n",
    "import numpy as np"
   ]
  },
  {
   "cell_type": "code",
   "execution_count": 2,
   "id": "4f0a8032",
   "metadata": {},
   "outputs": [],
   "source": [
    "# load the molecules\n",
    "with open(\"../data/new_descriptors/metabolite_id_classes.txt\") as f:\n",
    "    mols_str, mols_id, classes = zip(*[ line.strip().split() for line in f])"
   ]
  },
  {
   "cell_type": "markdown",
   "id": "344fdf55",
   "metadata": {},
   "source": [
    "## 1. MACCS Distinct"
   ]
  },
  {
   "cell_type": "code",
   "execution_count": 3,
   "id": "09b8a29d",
   "metadata": {},
   "outputs": [],
   "source": [
    "maccs_distinct_desc = pd.read_csv('../data/new_descriptors/maccs_distinct_desc.txt', names=[\"fingerprint\", \"mol_id\"], delimiter=\" \")"
   ]
  },
  {
   "cell_type": "code",
   "execution_count": 4,
   "id": "320269ff",
   "metadata": {},
   "outputs": [],
   "source": [
    "maccs_distinct_desc_data = []\n",
    "\n",
    "for i in range(len(maccs_distinct_desc['fingerprint'])):\n",
    "    maccs_distinct_desc_data.append(np.array([int(j) for j in list(maccs_distinct_desc['fingerprint'].iloc[i])]).T)"
   ]
  },
  {
   "cell_type": "code",
   "execution_count": 5,
   "id": "468ffc40",
   "metadata": {},
   "outputs": [],
   "source": [
    "maccs_distinct_desc_labels = []\n",
    "\n",
    "for i in range(len(maccs_distinct_desc['mol_id'])):\n",
    "    \n",
    "    isFound = False\n",
    "    \n",
    "    if not \"mol\" in maccs_distinct_desc['mol_id'].iloc[i]:\n",
    "        maccs_distinct_desc['mol_id'].iloc[i] = \"mol_\" + maccs_distinct_desc['mol_id'].iloc[i]\n",
    "    \n",
    "    for j in range(len(mols_id)):\n",
    "        if maccs_distinct_desc['mol_id'].iloc[i] == mols_id[j]:\n",
    "            maccs_distinct_desc_labels.append(classes[j])\n",
    "            isFound = True\n",
    "            break\n",
    "            \n",
    "    if isFound == False:\n",
    "        print(maccs_distinct_desc['mol_id'].iloc[i])"
   ]
  },
  {
   "cell_type": "code",
   "execution_count": 6,
   "id": "716ed606",
   "metadata": {},
   "outputs": [],
   "source": [
    "# Convert classes to multi-class vector\n",
    "\n",
    "multi_class_output = []\n",
    "\n",
    "for elem in maccs_distinct_desc_labels:\n",
    "    \n",
    "    my_class = np.zeros(11)\n",
    "    \n",
    "    for num in elem.split(\",\"):\n",
    "        my_class[int(num)] = 1\n",
    "        \n",
    "    multi_class_output.append(my_class)"
   ]
  },
  {
   "cell_type": "code",
   "execution_count": 7,
   "id": "21a1b290",
   "metadata": {},
   "outputs": [],
   "source": [
    "multi_class_output = np.array(multi_class_output)"
   ]
  },
  {
   "cell_type": "code",
   "execution_count": 8,
   "id": "fb939b1d",
   "metadata": {},
   "outputs": [
    {
     "data": {
      "text/plain": [
       "array([133.,  79., 155.,  80., 338., 122.,  24., 243., 381., 529., 569.])"
      ]
     },
     "execution_count": 8,
     "metadata": {},
     "output_type": "execute_result"
    }
   ],
   "source": [
    "np.sum(multi_class_output, axis=0)"
   ]
  },
  {
   "cell_type": "code",
   "execution_count": 9,
   "id": "002f82d4",
   "metadata": {},
   "outputs": [],
   "source": [
    "from sklearn.ensemble import RandomForestClassifier\n",
    "\n",
    "from sklearn.model_selection import train_test_split\n",
    "from sklearn.metrics import accuracy_score, precision_score, recall_score\n",
    "\n",
    "from sklearn.preprocessing import MinMaxScaler"
   ]
  },
  {
   "cell_type": "code",
   "execution_count": 10,
   "id": "8b09b574",
   "metadata": {},
   "outputs": [],
   "source": [
    "scaler = MinMaxScaler()\n",
    "\n",
    "maccs_distinct_desc_data = scaler.fit_transform(maccs_distinct_desc_data)\n",
    "\n",
    "X_train, X_test, y_train, y_test = train_test_split(maccs_distinct_desc_data, multi_class_output, test_size=0.2)\n"
   ]
  },
  {
   "cell_type": "code",
   "execution_count": 11,
   "id": "8e96e784",
   "metadata": {},
   "outputs": [
    {
     "data": {
      "text/plain": [
       "array([103.,  59., 123.,  69., 272., 102.,  20., 195., 304., 430., 443.])"
      ]
     },
     "execution_count": 11,
     "metadata": {},
     "output_type": "execute_result"
    }
   ],
   "source": [
    "np.sum(y_train, axis=0)"
   ]
  },
  {
   "cell_type": "code",
   "execution_count": 12,
   "id": "60b9b78e",
   "metadata": {},
   "outputs": [
    {
     "data": {
      "text/plain": [
       "array([ 30.,  20.,  32.,  11.,  66.,  20.,   4.,  48.,  77.,  99., 126.])"
      ]
     },
     "execution_count": 12,
     "metadata": {},
     "output_type": "execute_result"
    }
   ],
   "source": [
    "np.sum(y_test, axis=0)"
   ]
  },
  {
   "cell_type": "code",
   "execution_count": 13,
   "id": "d9ae1537",
   "metadata": {},
   "outputs": [
    {
     "data": {
      "text/plain": [
       "array([0.29126214, 0.33898305, 0.2601626 , 0.15942029, 0.24264706,\n",
       "       0.19607843, 0.2       , 0.24615385, 0.25328947, 0.23023256,\n",
       "       0.28442438])"
      ]
     },
     "execution_count": 13,
     "metadata": {},
     "output_type": "execute_result"
    }
   ],
   "source": [
    "np.sum(y_test, axis=0)/np.sum(y_train, axis=0)"
   ]
  },
  {
   "cell_type": "code",
   "execution_count": 14,
   "id": "bdd5e280",
   "metadata": {},
   "outputs": [],
   "source": [
    "from skmultilearn.model_selection import iterative_train_test_split\n",
    "\n",
    "X_train, y_train, X_test, y_test = iterative_train_test_split(maccs_distinct_desc_data, multi_class_output, test_size = 0.2)\n",
    "\n"
   ]
  },
  {
   "cell_type": "code",
   "execution_count": 15,
   "id": "3887ec87",
   "metadata": {},
   "outputs": [
    {
     "data": {
      "text/plain": [
       "array([106.,  63., 124.,  64., 270.,  98.,  19., 194., 305., 423., 455.])"
      ]
     },
     "execution_count": 15,
     "metadata": {},
     "output_type": "execute_result"
    }
   ],
   "source": [
    "np.sum(y_train, axis=0)"
   ]
  },
  {
   "cell_type": "code",
   "execution_count": 16,
   "id": "8c39f90b",
   "metadata": {},
   "outputs": [
    {
     "data": {
      "text/plain": [
       "array([ 27.,  16.,  31.,  16.,  68.,  24.,   5.,  49.,  76., 106., 114.])"
      ]
     },
     "execution_count": 16,
     "metadata": {},
     "output_type": "execute_result"
    }
   ],
   "source": [
    "np.sum(y_test, axis=0)"
   ]
  },
  {
   "cell_type": "code",
   "execution_count": 17,
   "id": "f3afd0c2",
   "metadata": {},
   "outputs": [
    {
     "data": {
      "text/plain": [
       "array([0.25471698, 0.25396825, 0.25      , 0.25      , 0.25185185,\n",
       "       0.24489796, 0.26315789, 0.25257732, 0.24918033, 0.25059102,\n",
       "       0.25054945])"
      ]
     },
     "execution_count": 17,
     "metadata": {},
     "output_type": "execute_result"
    }
   ],
   "source": [
    "np.sum(y_test, axis=0)/np.sum(y_train, axis=0)"
   ]
  },
  {
   "cell_type": "code",
   "execution_count": 28,
   "id": "450a0b42",
   "metadata": {},
   "outputs": [
    {
     "name": "stderr",
     "output_type": "stream",
     "text": [
      "[Parallel(n_jobs=1)]: Using backend SequentialBackend with 1 concurrent workers.\n",
      "[Parallel(n_jobs=1)]: Done 500 out of 500 | elapsed:    1.4s finished\n"
     ]
    },
    {
     "data": {
      "text/plain": [
       "RandomForestClassifier(max_depth=10, min_samples_split=5, n_estimators=500,\n",
       "                       verbose=True)"
      ]
     },
     "execution_count": 28,
     "metadata": {},
     "output_type": "execute_result"
    }
   ],
   "source": [
    "clf = RandomForestClassifier(n_estimators=500, min_samples_split=5, max_depth=10, verbose=True)\n",
    "clf.fit(X_train, y_train)"
   ]
  },
  {
   "cell_type": "code",
   "execution_count": 29,
   "id": "372acf2c",
   "metadata": {},
   "outputs": [
    {
     "name": "stderr",
     "output_type": "stream",
     "text": [
      "[Parallel(n_jobs=1)]: Using backend SequentialBackend with 1 concurrent workers.\n",
      "[Parallel(n_jobs=1)]: Done 500 out of 500 | elapsed:    0.2s finished\n"
     ]
    }
   ],
   "source": [
    "y_pred = clf.predict(X_test)"
   ]
  },
  {
   "cell_type": "code",
   "execution_count": 30,
   "id": "5d8bf1c2",
   "metadata": {},
   "outputs": [],
   "source": [
    "y_pred[y_pred<0.5]  = 0\n",
    "y_pred[y_pred>=0.5] = 1"
   ]
  },
  {
   "cell_type": "code",
   "execution_count": 31,
   "id": "f2a84fad",
   "metadata": {},
   "outputs": [
    {
     "name": "stdout",
     "output_type": "stream",
     "text": [
      "Class 1 statistics:\n",
      "Accuracy 0.9468, Precision 1.0000, Recall 0.1481\n",
      "\n",
      "Class 2 statistics:\n",
      "Accuracy 0.9630, Precision 0.0000, Recall 0.0000\n",
      "\n",
      "Class 3 statistics:\n",
      "Accuracy 0.9491, Precision 0.9091, Recall 0.3226\n",
      "\n",
      "Class 4 statistics:\n",
      "Accuracy 0.9630, Precision 0.5000, Recall 0.0625\n",
      "\n",
      "Class 5 statistics:\n",
      "Accuracy 0.8634, Precision 1.0000, Recall 0.1324\n",
      "\n",
      "Class 6 statistics:\n",
      "Accuracy 0.9468, Precision 1.0000, Recall 0.0417\n",
      "\n",
      "Class 7 statistics:\n",
      "Accuracy 0.9884, Precision 0.0000, Recall 0.0000\n",
      "\n",
      "Class 8 statistics:\n",
      "Accuracy 0.9259, Precision 0.9048, Recall 0.3878\n",
      "\n",
      "Class 9 statistics:\n",
      "Accuracy 0.9190, Precision 0.8727, Recall 0.6316\n",
      "\n",
      "Class 10 statistics:\n",
      "Accuracy 0.8796, Precision 0.9355, Recall 0.5472\n",
      "\n",
      "Class 11 statistics:\n",
      "Accuracy 0.8681, Precision 0.9130, Recall 0.5526\n",
      "\n"
     ]
    },
    {
     "name": "stderr",
     "output_type": "stream",
     "text": [
      "/Users/gianluca/python_venv/lib/python3.7/site-packages/sklearn/metrics/_classification.py:1245: UndefinedMetricWarning: Precision is ill-defined and being set to 0.0 due to no predicted samples. Use `zero_division` parameter to control this behavior.\n",
      "  _warn_prf(average, modifier, msg_start, len(result))\n",
      "/Users/gianluca/python_venv/lib/python3.7/site-packages/sklearn/metrics/_classification.py:1245: UndefinedMetricWarning: Precision is ill-defined and being set to 0.0 due to no predicted samples. Use `zero_division` parameter to control this behavior.\n",
      "  _warn_prf(average, modifier, msg_start, len(result))\n"
     ]
    }
   ],
   "source": [
    "for c in range(11):\n",
    "    y_true_c = y_test[:,c]\n",
    "    y_pred_c = y_pred[:,c]\n",
    "    \n",
    "    auc       = accuracy_score(y_true_c, y_pred_c)\n",
    "    precision = precision_score(y_true_c, y_pred_c)\n",
    "    recall    = recall_score(y_true_c, y_pred_c)\n",
    "    \n",
    "    print('Class '+str(c+1)+' statistics:')\n",
    "    print('Accuracy %.4f, Precision %.4f, Recall %.4f\\n' %(auc, precision, recall))"
   ]
  },
  {
   "cell_type": "markdown",
   "id": "5e7cfc30",
   "metadata": {},
   "source": [
    "## 2. Morgan distinct"
   ]
  },
  {
   "cell_type": "code",
   "execution_count": 32,
   "id": "c24dda1e",
   "metadata": {},
   "outputs": [],
   "source": [
    "morgan_distinct_desc = pd.read_csv('../data/new_descriptors/morgan_distinct_desc.txt', names=[\"fingerprint\", \"mol_id\"], delimiter=\" \")"
   ]
  },
  {
   "cell_type": "code",
   "execution_count": 33,
   "id": "354284fc",
   "metadata": {},
   "outputs": [],
   "source": [
    "morgan_distinct_desc_data = []\n",
    "\n",
    "for i in range(len(morgan_distinct_desc['fingerprint'])):\n",
    "    morgan_distinct_desc_data.append(np.array([int(j) for j in list(morgan_distinct_desc['fingerprint'].iloc[i])]).T)"
   ]
  },
  {
   "cell_type": "code",
   "execution_count": 34,
   "id": "985e6565",
   "metadata": {},
   "outputs": [],
   "source": [
    "morgan_distinct_desc_labels = []\n",
    "\n",
    "for i in range(len(morgan_distinct_desc['mol_id'])):\n",
    "    \n",
    "    isFound = False\n",
    "    \n",
    "    if not \"mol\" in morgan_distinct_desc['mol_id'].iloc[i]:\n",
    "        morgan_distinct_desc['mol_id'].iloc[i] = \"mol_\" + morgan_distinct_desc['mol_id'].iloc[i]\n",
    "    \n",
    "    for j in range(len(mols_id)):\n",
    "        if morgan_distinct_desc['mol_id'].iloc[i] == mols_id[j]:\n",
    "            morgan_distinct_desc_labels.append(classes[j])\n",
    "            isFound = True\n",
    "            break\n",
    "            \n",
    "    if isFound == False:\n",
    "        print(morgan_distinct_desc['mol_id'].iloc[i])"
   ]
  },
  {
   "cell_type": "code",
   "execution_count": 35,
   "id": "ff6aa410",
   "metadata": {},
   "outputs": [],
   "source": [
    "# Convert classes to multi-class vector\n",
    "\n",
    "multi_class_output = []\n",
    "\n",
    "for elem in morgan_distinct_desc_labels:\n",
    "    \n",
    "    my_class = np.zeros(11)\n",
    "    \n",
    "    for num in elem.split(\",\"):\n",
    "        my_class[int(num)] = 1\n",
    "        \n",
    "    multi_class_output.append(my_class)"
   ]
  },
  {
   "cell_type": "code",
   "execution_count": 36,
   "id": "95c37998",
   "metadata": {},
   "outputs": [
    {
     "data": {
      "text/plain": [
       "array([133.,  79., 155.,  80., 338., 122.,  24., 243., 381., 529., 569.])"
      ]
     },
     "execution_count": 36,
     "metadata": {},
     "output_type": "execute_result"
    }
   ],
   "source": [
    "np.sum(multi_class_output, axis=0)"
   ]
  },
  {
   "cell_type": "code",
   "execution_count": 37,
   "id": "652279a3",
   "metadata": {},
   "outputs": [],
   "source": [
    "scaler = MinMaxScaler()\n",
    "\n",
    "morgan_distinct_desc_data = scaler.fit_transform(morgan_distinct_desc_data)\n",
    "\n",
    "X_train, X_test, y_train, y_test = train_test_split(morgan_distinct_desc_data, multi_class_output, test_size=0.2)\n",
    "\n"
   ]
  },
  {
   "cell_type": "code",
   "execution_count": 38,
   "id": "ed72efe9",
   "metadata": {},
   "outputs": [
    {
     "data": {
      "text/plain": [
       "array([0.23148148, 0.21538462, 0.25      , 0.21212121, 0.24723247,\n",
       "       0.32608696, 0.26315789, 0.25906736, 0.25742574, 0.23887588,\n",
       "       0.27008929])"
      ]
     },
     "execution_count": 38,
     "metadata": {},
     "output_type": "execute_result"
    }
   ],
   "source": [
    "np.sum(y_test, axis=0)/np.sum(y_train, axis=0)"
   ]
  },
  {
   "cell_type": "code",
   "execution_count": 39,
   "id": "7da29372",
   "metadata": {},
   "outputs": [],
   "source": [
    "multi_class_output = np.array(multi_class_output)"
   ]
  },
  {
   "cell_type": "code",
   "execution_count": 40,
   "id": "a502a755",
   "metadata": {},
   "outputs": [],
   "source": [
    "X_train, y_train, X_test, y_test = iterative_train_test_split(morgan_distinct_desc_data, multi_class_output, test_size = 0.2)\n"
   ]
  },
  {
   "cell_type": "code",
   "execution_count": 41,
   "id": "d0a1d35f",
   "metadata": {},
   "outputs": [
    {
     "data": {
      "text/plain": [
       "array([0.25471698, 0.25396825, 0.25      , 0.25      , 0.25185185,\n",
       "       0.24489796, 0.26315789, 0.25257732, 0.24918033, 0.25059102,\n",
       "       0.25054945])"
      ]
     },
     "execution_count": 41,
     "metadata": {},
     "output_type": "execute_result"
    }
   ],
   "source": [
    "np.sum(y_test, axis=0)/np.sum(y_train, axis=0)"
   ]
  },
  {
   "cell_type": "code",
   "execution_count": 42,
   "id": "daa6f2a8",
   "metadata": {},
   "outputs": [
    {
     "name": "stderr",
     "output_type": "stream",
     "text": [
      "[Parallel(n_jobs=1)]: Using backend SequentialBackend with 1 concurrent workers.\n",
      "[Parallel(n_jobs=1)]: Done 500 out of 500 | elapsed:    2.2s finished\n"
     ]
    },
    {
     "data": {
      "text/plain": [
       "RandomForestClassifier(max_depth=10, min_samples_split=5, n_estimators=500,\n",
       "                       verbose=True)"
      ]
     },
     "execution_count": 42,
     "metadata": {},
     "output_type": "execute_result"
    }
   ],
   "source": [
    "clf = RandomForestClassifier(n_estimators=500, min_samples_split=5, max_depth=10, verbose=True)\n",
    "clf.fit(X_train, y_train)"
   ]
  },
  {
   "cell_type": "code",
   "execution_count": 43,
   "id": "7e9cbe0f",
   "metadata": {},
   "outputs": [
    {
     "name": "stderr",
     "output_type": "stream",
     "text": [
      "[Parallel(n_jobs=1)]: Using backend SequentialBackend with 1 concurrent workers.\n",
      "[Parallel(n_jobs=1)]: Done 500 out of 500 | elapsed:    0.2s finished\n"
     ]
    }
   ],
   "source": [
    "y_pred = clf.predict(X_test)"
   ]
  },
  {
   "cell_type": "code",
   "execution_count": 44,
   "id": "88107db4",
   "metadata": {},
   "outputs": [],
   "source": [
    "y_pred[y_pred<0.5]  = 0\n",
    "y_pred[y_pred>=0.5] = 1"
   ]
  },
  {
   "cell_type": "code",
   "execution_count": 45,
   "id": "c7d5c8fd",
   "metadata": {},
   "outputs": [
    {
     "name": "stdout",
     "output_type": "stream",
     "text": [
      "Class 1 statistics:\n",
      "Accuracy 0.9375, Precision 0.0000, Recall 0.0000\n",
      "\n",
      "Class 2 statistics:\n",
      "Accuracy 0.9630, Precision 0.0000, Recall 0.0000\n",
      "\n",
      "Class 3 statistics:\n",
      "Accuracy 0.9329, Precision 1.0000, Recall 0.0645\n",
      "\n",
      "Class 4 statistics:\n",
      "Accuracy 0.9630, Precision 0.0000, Recall 0.0000\n",
      "\n",
      "Class 5 statistics:\n",
      "Accuracy 0.8426, Precision 0.0000, Recall 0.0000\n",
      "\n",
      "Class 6 statistics:\n",
      "Accuracy 0.9444, Precision 0.0000, Recall 0.0000\n",
      "\n",
      "Class 7 statistics:\n",
      "Accuracy 0.9884, Precision 0.0000, Recall 0.0000\n",
      "\n",
      "Class 8 statistics:\n",
      "Accuracy 0.9074, Precision 1.0000, Recall 0.1837\n",
      "\n",
      "Class 9 statistics:\n",
      "Accuracy 0.8819, Precision 0.9310, Recall 0.3553\n",
      "\n",
      "Class 10 statistics:\n",
      "Accuracy 0.8125, Precision 1.0000, Recall 0.2358\n",
      "\n",
      "Class 11 statistics:\n",
      "Accuracy 0.8102, Precision 0.9444, Recall 0.2982\n",
      "\n"
     ]
    },
    {
     "name": "stderr",
     "output_type": "stream",
     "text": [
      "/Users/gianluca/python_venv/lib/python3.7/site-packages/sklearn/metrics/_classification.py:1245: UndefinedMetricWarning: Precision is ill-defined and being set to 0.0 due to no predicted samples. Use `zero_division` parameter to control this behavior.\n",
      "  _warn_prf(average, modifier, msg_start, len(result))\n",
      "/Users/gianluca/python_venv/lib/python3.7/site-packages/sklearn/metrics/_classification.py:1245: UndefinedMetricWarning: Precision is ill-defined and being set to 0.0 due to no predicted samples. Use `zero_division` parameter to control this behavior.\n",
      "  _warn_prf(average, modifier, msg_start, len(result))\n",
      "/Users/gianluca/python_venv/lib/python3.7/site-packages/sklearn/metrics/_classification.py:1245: UndefinedMetricWarning: Precision is ill-defined and being set to 0.0 due to no predicted samples. Use `zero_division` parameter to control this behavior.\n",
      "  _warn_prf(average, modifier, msg_start, len(result))\n",
      "/Users/gianluca/python_venv/lib/python3.7/site-packages/sklearn/metrics/_classification.py:1245: UndefinedMetricWarning: Precision is ill-defined and being set to 0.0 due to no predicted samples. Use `zero_division` parameter to control this behavior.\n",
      "  _warn_prf(average, modifier, msg_start, len(result))\n",
      "/Users/gianluca/python_venv/lib/python3.7/site-packages/sklearn/metrics/_classification.py:1245: UndefinedMetricWarning: Precision is ill-defined and being set to 0.0 due to no predicted samples. Use `zero_division` parameter to control this behavior.\n",
      "  _warn_prf(average, modifier, msg_start, len(result))\n",
      "/Users/gianluca/python_venv/lib/python3.7/site-packages/sklearn/metrics/_classification.py:1245: UndefinedMetricWarning: Precision is ill-defined and being set to 0.0 due to no predicted samples. Use `zero_division` parameter to control this behavior.\n",
      "  _warn_prf(average, modifier, msg_start, len(result))\n"
     ]
    }
   ],
   "source": [
    "for c in range(11):\n",
    "    y_true_c = y_test[:,c]\n",
    "    y_pred_c = y_pred[:,c]\n",
    "    \n",
    "    auc       = accuracy_score(y_true_c, y_pred_c)\n",
    "    precision = precision_score(y_true_c, y_pred_c)\n",
    "    recall    = recall_score(y_true_c, y_pred_c)\n",
    "    \n",
    "    print('Class '+str(c+1)+' statistics:')\n",
    "    print('Accuracy %.4f, Precision %.4f, Recall %.4f\\n' %(auc, precision, recall))"
   ]
  },
  {
   "cell_type": "markdown",
   "id": "053e0032",
   "metadata": {},
   "source": [
    "## 3. MACCS"
   ]
  },
  {
   "cell_type": "code",
   "execution_count": 46,
   "id": "b2de3dcb",
   "metadata": {},
   "outputs": [],
   "source": [
    "maccs_desc = pd.read_csv('../data/new_descriptors/maccs_desc.txt', names=[\"fingerprint\", \"mol_id\"], delimiter=\" \")"
   ]
  },
  {
   "cell_type": "code",
   "execution_count": 47,
   "id": "7e52578f",
   "metadata": {},
   "outputs": [],
   "source": [
    "maccs_desc_data = []\n",
    "\n",
    "for i in range(len(maccs_desc['fingerprint'])):\n",
    "    maccs_desc_data.append(np.array([int(j) for j in list(maccs_desc['fingerprint'].iloc[i])]).T)"
   ]
  },
  {
   "cell_type": "code",
   "execution_count": 48,
   "id": "7ed86c8f",
   "metadata": {},
   "outputs": [],
   "source": [
    "maccs_desc_labels = []\n",
    "\n",
    "for i in range(len(maccs_desc['mol_id'])):\n",
    "    \n",
    "    isFound = False\n",
    "    \n",
    "    if not \"mol\" in maccs_desc['mol_id'].iloc[i]:\n",
    "        \n",
    "        if len(maccs_desc['mol_id'].iloc[i]) == 3:\n",
    "        \n",
    "            maccs_desc['mol_id'].iloc[i] = \"mol_0\" + maccs_desc['mol_id'].iloc[i]\n",
    "            \n",
    "        else:\n",
    "            \n",
    "            maccs_desc['mol_id'].iloc[i] = \"mol_\" + maccs_desc['mol_id'].iloc[i]\n",
    "            \n",
    "        #print(maccs_desc['mol_id'].iloc[i])\n",
    "    \n",
    "    for j in range(len(mols_id)):\n",
    "        if maccs_desc['mol_id'].iloc[i] == mols_id[j]:\n",
    "            maccs_desc_labels.append(classes[j])\n",
    "            isFound = True\n",
    "            break\n",
    "            \n",
    "    if isFound == False:\n",
    "        print(\"Here\")\n",
    "        print(maccs_desc['mol_id'].iloc[i])"
   ]
  },
  {
   "cell_type": "code",
   "execution_count": 49,
   "id": "b8b74b04",
   "metadata": {},
   "outputs": [],
   "source": [
    "# Convert classes to multi-class vector\n",
    "\n",
    "multi_class_output = []\n",
    "\n",
    "for elem in maccs_desc_labels:\n",
    "    \n",
    "    my_class = np.zeros(11)\n",
    "    \n",
    "    for num in elem.split(\",\"):\n",
    "        my_class[int(num)] = 1\n",
    "        \n",
    "    multi_class_output.append(my_class)"
   ]
  },
  {
   "cell_type": "code",
   "execution_count": 50,
   "id": "f130f9bd",
   "metadata": {},
   "outputs": [],
   "source": [
    "scaler = MinMaxScaler()\n",
    "\n",
    "maccs_desc_data = scaler.fit_transform(maccs_desc_data)\n",
    "\n",
    "X_train, X_test, y_train, y_test = train_test_split(maccs_desc_data, multi_class_output, test_size=0.2)\n",
    "\n",
    "\n",
    "\n",
    "\n",
    "\n",
    "\n"
   ]
  },
  {
   "cell_type": "code",
   "execution_count": 51,
   "id": "97403a3a",
   "metadata": {},
   "outputs": [
    {
     "data": {
      "text/plain": [
       "array([0.22118743, 0.24022346, 0.25125   , 0.25738397, 0.24270073,\n",
       "       0.21917808, 0.23430962, 0.24613221, 0.234375  , 0.23333333,\n",
       "       0.28967495])"
      ]
     },
     "execution_count": 51,
     "metadata": {},
     "output_type": "execute_result"
    }
   ],
   "source": [
    "np.sum(y_test, axis=0)/np.sum(y_train, axis=0)"
   ]
  },
  {
   "cell_type": "code",
   "execution_count": 52,
   "id": "de2cbdb9",
   "metadata": {},
   "outputs": [],
   "source": [
    "multi_class_output = np.array(multi_class_output)"
   ]
  },
  {
   "cell_type": "code",
   "execution_count": 53,
   "id": "46c93d7f",
   "metadata": {},
   "outputs": [],
   "source": [
    "X_train, y_train, X_test, y_test = iterative_train_test_split(maccs_desc_data, multi_class_output, test_size = 0.2)\n",
    "\n"
   ]
  },
  {
   "cell_type": "code",
   "execution_count": 54,
   "id": "f02f2507",
   "metadata": {},
   "outputs": [
    {
     "data": {
      "text/plain": [
       "array([0.25029797, 0.31360947, 0.24968789, 0.25210084, 0.24954128,\n",
       "       0.28365385, 0.32286996, 0.24964739, 0.24956063, 0.25      ,\n",
       "       0.2502317 ])"
      ]
     },
     "execution_count": 54,
     "metadata": {},
     "output_type": "execute_result"
    }
   ],
   "source": [
    "np.sum(y_test, axis=0)/np.sum(y_train, axis=0)"
   ]
  },
  {
   "cell_type": "code",
   "execution_count": 55,
   "id": "99b47808",
   "metadata": {},
   "outputs": [
    {
     "name": "stderr",
     "output_type": "stream",
     "text": [
      "[Parallel(n_jobs=1)]: Using backend SequentialBackend with 1 concurrent workers.\n",
      "[Parallel(n_jobs=1)]: Done 500 out of 500 | elapsed:    4.5s finished\n"
     ]
    },
    {
     "data": {
      "text/plain": [
       "RandomForestClassifier(max_depth=10, min_samples_split=5, n_estimators=500,\n",
       "                       verbose=True)"
      ]
     },
     "execution_count": 55,
     "metadata": {},
     "output_type": "execute_result"
    }
   ],
   "source": [
    "clf = RandomForestClassifier(n_estimators=500, min_samples_split=5, max_depth=10, verbose=True)\n",
    "clf.fit(X_train, y_train)"
   ]
  },
  {
   "cell_type": "code",
   "execution_count": 56,
   "id": "767a8bbb",
   "metadata": {},
   "outputs": [
    {
     "name": "stderr",
     "output_type": "stream",
     "text": [
      "[Parallel(n_jobs=1)]: Using backend SequentialBackend with 1 concurrent workers.\n",
      "[Parallel(n_jobs=1)]: Done 500 out of 500 | elapsed:    0.5s finished\n"
     ]
    }
   ],
   "source": [
    "y_pred = clf.predict(X_test)"
   ]
  },
  {
   "cell_type": "code",
   "execution_count": 57,
   "id": "035f8468",
   "metadata": {},
   "outputs": [],
   "source": [
    "y_pred[y_pred<0.5]  = 0\n",
    "y_pred[y_pred>=0.5] = 1"
   ]
  },
  {
   "cell_type": "code",
   "execution_count": 58,
   "id": "6affbe80",
   "metadata": {},
   "outputs": [
    {
     "name": "stdout",
     "output_type": "stream",
     "text": [
      "Class 1 statistics:\n",
      "Accuracy 0.9473, Precision 0.8524, Recall 0.8524\n",
      "\n",
      "Class 2 statistics:\n",
      "Accuracy 0.9023, Precision 0.7558, Recall 0.4088\n",
      "\n",
      "Class 3 statistics:\n",
      "Accuracy 0.9320, Precision 0.9054, Recall 0.6700\n",
      "\n",
      "Class 4 statistics:\n",
      "Accuracy 0.9694, Precision 1.0000, Recall 0.4000\n",
      "\n",
      "Class 5 statistics:\n",
      "Accuracy 0.8870, Precision 0.7983, Recall 0.6838\n",
      "\n",
      "Class 6 statistics:\n",
      "Accuracy 0.9269, Precision 0.9211, Recall 0.2966\n",
      "\n",
      "Class 7 statistics:\n",
      "Accuracy 0.9541, Precision 1.0000, Recall 0.2500\n",
      "\n",
      "Class 8 statistics:\n",
      "Accuracy 0.8946, Precision 1.0000, Recall 0.2994\n",
      "\n",
      "Class 9 statistics:\n",
      "Accuracy 0.9142, Precision 0.9420, Recall 0.6866\n",
      "\n",
      "Class 10 statistics:\n",
      "Accuracy 0.8641, Precision 0.9449, Recall 0.6027\n",
      "\n",
      "Class 11 statistics:\n",
      "Accuracy 0.8997, Precision 0.8958, Recall 0.6370\n",
      "\n"
     ]
    }
   ],
   "source": [
    "for c in range(11):\n",
    "    y_true_c = y_test[:,c]\n",
    "    y_pred_c = y_pred[:,c]\n",
    "    \n",
    "    auc       = accuracy_score(y_true_c, y_pred_c)\n",
    "    precision = precision_score(y_true_c, y_pred_c)\n",
    "    recall    = recall_score(y_true_c, y_pred_c)\n",
    "    \n",
    "    print('Class '+str(c+1)+' statistics:')\n",
    "    print('Accuracy %.4f, Precision %.4f, Recall %.4f\\n' %(auc, precision, recall))"
   ]
  },
  {
   "cell_type": "markdown",
   "id": "0f75261d",
   "metadata": {},
   "source": [
    "## 4. Morgan"
   ]
  },
  {
   "cell_type": "code",
   "execution_count": 60,
   "id": "4f21bccd",
   "metadata": {},
   "outputs": [],
   "source": [
    "morgan_desc = pd.read_csv('../data/new_descriptors/morgan_desc.txt', names=[\"fingerprint\", \"mol_id\"], delimiter=\" \")"
   ]
  },
  {
   "cell_type": "code",
   "execution_count": 61,
   "id": "9677a635",
   "metadata": {},
   "outputs": [],
   "source": [
    "morgan_desc_data = []\n",
    "\n",
    "for i in range(len(morgan_desc['fingerprint'])):\n",
    "    morgan_desc_data.append(np.array([int(j) for j in list(morgan_desc['fingerprint'].iloc[i])]).T)"
   ]
  },
  {
   "cell_type": "code",
   "execution_count": 62,
   "id": "146cb139",
   "metadata": {},
   "outputs": [],
   "source": [
    "morgan_desc_labels = []\n",
    "\n",
    "for i in range(len(morgan_desc['mol_id'])):\n",
    "    \n",
    "    isFound = False\n",
    "    \n",
    "    if not \"mol\" in morgan_desc['mol_id'].iloc[i]:\n",
    "        \n",
    "        if len(morgan_desc['mol_id'].iloc[i]) == 3:\n",
    "        \n",
    "            morgan_desc['mol_id'].iloc[i] = \"mol_0\" + morgan_desc['mol_id'].iloc[i]\n",
    "            \n",
    "        else:\n",
    "            \n",
    "            morgan_desc['mol_id'].iloc[i] = \"mol_\" + morgan_desc['mol_id'].iloc[i]\n",
    "            \n",
    "        #print(maccs_desc['mol_id'].iloc[i])\n",
    "    \n",
    "    for j in range(len(mols_id)):\n",
    "        if morgan_desc['mol_id'].iloc[i] == mols_id[j]:\n",
    "            morgan_desc_labels.append(classes[j])\n",
    "            isFound = True\n",
    "            break\n",
    "            \n",
    "    if isFound == False:\n",
    "        print(\"Here\")\n",
    "        print(morgan_desc['mol_id'].iloc[i])"
   ]
  },
  {
   "cell_type": "code",
   "execution_count": 63,
   "id": "959d0a37",
   "metadata": {},
   "outputs": [],
   "source": [
    "# Convert classes to multi-class vector\n",
    "\n",
    "multi_class_output = []\n",
    "\n",
    "for elem in morgan_desc_labels:\n",
    "    \n",
    "    my_class = np.zeros(11)\n",
    "    \n",
    "    for num in elem.split(\",\"):\n",
    "        my_class[int(num)] = 1\n",
    "        \n",
    "    multi_class_output.append(my_class)"
   ]
  },
  {
   "cell_type": "code",
   "execution_count": 64,
   "id": "4678e3ff",
   "metadata": {},
   "outputs": [],
   "source": [
    "multi_class_output = np.array(multi_class_output)"
   ]
  },
  {
   "cell_type": "code",
   "execution_count": 65,
   "id": "6d8d8051",
   "metadata": {},
   "outputs": [],
   "source": [
    "scaler = MinMaxScaler()\n",
    "\n",
    "morgan_desc_data = scaler.fit_transform(morgan_desc_data)\n",
    "\n",
    "X_train, X_test, y_train, y_test = train_test_split(morgan_desc_data, multi_class_output, test_size=0.2)\n",
    "\n"
   ]
  },
  {
   "cell_type": "code",
   "execution_count": 66,
   "id": "0a35db17",
   "metadata": {},
   "outputs": [
    {
     "data": {
      "text/plain": [
       "array([0.23557126, 0.2661597 , 0.25438596, 0.25738397, 0.24725275,\n",
       "       0.24475524, 0.25      , 0.26934097, 0.25507502, 0.22923588,\n",
       "       0.24791859])"
      ]
     },
     "execution_count": 66,
     "metadata": {},
     "output_type": "execute_result"
    }
   ],
   "source": [
    "np.sum(y_test, axis=0)/np.sum(y_train, axis=0)"
   ]
  },
  {
   "cell_type": "code",
   "execution_count": 67,
   "id": "04cc64dd",
   "metadata": {},
   "outputs": [],
   "source": [
    "X_train, y_train, X_test, y_test = iterative_train_test_split(morgan_desc_data, multi_class_output, test_size = 0.2)\n"
   ]
  },
  {
   "cell_type": "code",
   "execution_count": 68,
   "id": "5e85a89a",
   "metadata": {},
   "outputs": [
    {
     "data": {
      "text/plain": [
       "array([ 839.,  507.,  801.,  238., 1090.,  416.,  223.,  709., 1138.,\n",
       "       1480., 1079.])"
      ]
     },
     "execution_count": 68,
     "metadata": {},
     "output_type": "execute_result"
    }
   ],
   "source": [
    "np.sum(y_train, axis=0)"
   ]
  },
  {
   "cell_type": "code",
   "execution_count": 69,
   "id": "58ab3e2b",
   "metadata": {},
   "outputs": [
    {
     "data": {
      "text/plain": [
       "array([210., 159., 200.,  60., 272., 118.,  72., 177., 284., 370., 270.])"
      ]
     },
     "execution_count": 69,
     "metadata": {},
     "output_type": "execute_result"
    }
   ],
   "source": [
    "np.sum(y_test, axis=0)"
   ]
  },
  {
   "cell_type": "code",
   "execution_count": 70,
   "id": "08a0b965",
   "metadata": {},
   "outputs": [
    {
     "data": {
      "text/plain": [
       "array([0.25029797, 0.31360947, 0.24968789, 0.25210084, 0.24954128,\n",
       "       0.28365385, 0.32286996, 0.24964739, 0.24956063, 0.25      ,\n",
       "       0.2502317 ])"
      ]
     },
     "execution_count": 70,
     "metadata": {},
     "output_type": "execute_result"
    }
   ],
   "source": [
    "np.sum(y_test, axis=0)/np.sum(y_train, axis=0)"
   ]
  },
  {
   "cell_type": "code",
   "execution_count": 71,
   "id": "06ef47f2",
   "metadata": {},
   "outputs": [
    {
     "name": "stderr",
     "output_type": "stream",
     "text": [
      "[Parallel(n_jobs=1)]: Using backend SequentialBackend with 1 concurrent workers.\n",
      "[Parallel(n_jobs=1)]: Done 500 out of 500 | elapsed:    7.0s finished\n"
     ]
    },
    {
     "data": {
      "text/plain": [
       "RandomForestClassifier(max_depth=10, min_samples_split=5, n_estimators=500,\n",
       "                       verbose=True)"
      ]
     },
     "execution_count": 71,
     "metadata": {},
     "output_type": "execute_result"
    }
   ],
   "source": [
    "clf = RandomForestClassifier(n_estimators=500, min_samples_split=5, max_depth=10, verbose=True)\n",
    "clf.fit(X_train, y_train)"
   ]
  },
  {
   "cell_type": "code",
   "execution_count": 72,
   "id": "5232bb3d",
   "metadata": {},
   "outputs": [
    {
     "name": "stderr",
     "output_type": "stream",
     "text": [
      "[Parallel(n_jobs=1)]: Using backend SequentialBackend with 1 concurrent workers.\n",
      "[Parallel(n_jobs=1)]: Done 500 out of 500 | elapsed:    0.4s finished\n"
     ]
    }
   ],
   "source": [
    "y_pred = clf.predict(X_test)"
   ]
  },
  {
   "cell_type": "code",
   "execution_count": 73,
   "id": "87e775a0",
   "metadata": {},
   "outputs": [],
   "source": [
    "y_pred[y_pred<0.5]  = 0\n",
    "y_pred[y_pred>=0.5] = 1"
   ]
  },
  {
   "cell_type": "code",
   "execution_count": 74,
   "id": "ea75a152",
   "metadata": {},
   "outputs": [
    {
     "name": "stdout",
     "output_type": "stream",
     "text": [
      "Class 1 statistics:\n",
      "Accuracy 0.8945, Precision 0.9778, Recall 0.4190\n",
      "\n",
      "Class 2 statistics:\n",
      "Accuracy 0.8826, Precision 0.9200, Recall 0.1447\n",
      "\n",
      "Class 3 statistics:\n",
      "Accuracy 0.9319, Precision 1.0000, Recall 0.6000\n",
      "\n",
      "Class 4 statistics:\n",
      "Accuracy 0.9549, Precision 1.0000, Recall 0.1167\n",
      "\n",
      "Class 5 statistics:\n",
      "Accuracy 0.8391, Precision 0.9029, Recall 0.3419\n",
      "\n",
      "Class 6 statistics:\n",
      "Accuracy 0.9047, Precision 1.0000, Recall 0.0508\n",
      "\n",
      "Class 7 statistics:\n",
      "Accuracy 0.9677, Precision 1.0000, Recall 0.4722\n",
      "\n",
      "Class 8 statistics:\n",
      "Accuracy 0.8672, Precision 1.0000, Recall 0.1186\n",
      "\n",
      "Class 9 statistics:\n",
      "Accuracy 0.8613, Precision 0.9549, Recall 0.4472\n",
      "\n",
      "Class 10 statistics:\n",
      "Accuracy 0.8043, Precision 0.9930, Recall 0.3811\n",
      "\n",
      "Class 11 statistics:\n",
      "Accuracy 0.8102, Precision 0.9608, Recall 0.1815\n",
      "\n"
     ]
    }
   ],
   "source": [
    "for c in range(11):\n",
    "    y_true_c = y_test[:,c]\n",
    "    y_pred_c = y_pred[:,c]\n",
    "    \n",
    "    auc       = accuracy_score(y_true_c, y_pred_c)\n",
    "    precision = precision_score(y_true_c, y_pred_c)\n",
    "    recall    = recall_score(y_true_c, y_pred_c)\n",
    "    \n",
    "    print('Class '+str(c+1)+' statistics:')\n",
    "    print('Accuracy %.4f, Precision %.4f, Recall %.4f\\n' %(auc, precision, recall))"
   ]
  },
  {
   "cell_type": "code",
   "execution_count": null,
   "id": "18b5b874",
   "metadata": {},
   "outputs": [],
   "source": []
  }
 ],
 "metadata": {
  "kernelspec": {
   "display_name": "Python 3",
   "language": "python",
   "name": "python3"
  },
  "language_info": {
   "codemirror_mode": {
    "name": "ipython",
    "version": 3
   },
   "file_extension": ".py",
   "mimetype": "text/x-python",
   "name": "python",
   "nbconvert_exporter": "python",
   "pygments_lexer": "ipython3",
   "version": "3.7.11"
  }
 },
 "nbformat": 4,
 "nbformat_minor": 5
}
